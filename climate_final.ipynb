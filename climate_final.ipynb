{
 "cells": [
  {
   "cell_type": "code",
   "execution_count": 1,
   "metadata": {},
   "outputs": [],
   "source": [
    "%matplotlib inline\n",
    "from matplotlib import style\n",
    "style.use('fivethirtyeight')\n",
    "import matplotlib.pyplot as plt"
   ]
  },
  {
   "cell_type": "code",
   "execution_count": 2,
   "metadata": {},
   "outputs": [],
   "source": [
    "import numpy as np\n",
    "import pandas as pd"
   ]
  },
  {
   "cell_type": "code",
   "execution_count": 3,
   "metadata": {},
   "outputs": [],
   "source": [
    "import datetime as dt"
   ]
  },
  {
   "cell_type": "markdown",
   "metadata": {},
   "source": [
    "# Reflect Tables into SQLAlchemy ORM"
   ]
  },
  {
   "cell_type": "code",
   "execution_count": 4,
   "metadata": {},
   "outputs": [],
   "source": [
    "import sqlalchemy\n",
    "from sqlalchemy.ext.automap import automap_base\n",
    "from sqlalchemy.orm import Session\n",
    "from sqlalchemy import create_engine, func, inspect"
   ]
  },
  {
   "cell_type": "code",
   "execution_count": 5,
   "metadata": {},
   "outputs": [],
   "source": [
    "engine = create_engine(\"sqlite:///Resources/hawaii.sqlite\")"
   ]
  },
  {
   "cell_type": "code",
   "execution_count": 6,
   "metadata": {},
   "outputs": [],
   "source": [
    "Base = automap_base()\n",
    "Base.prepare(engine, reflect=True)"
   ]
  },
  {
   "cell_type": "code",
   "execution_count": 7,
   "metadata": {},
   "outputs": [
    {
     "data": {
      "text/plain": [
       "['measurement', 'station']"
      ]
     },
     "execution_count": 7,
     "metadata": {},
     "output_type": "execute_result"
    }
   ],
   "source": [
    "Base.classes.keys()"
   ]
  },
  {
   "cell_type": "code",
   "execution_count": 8,
   "metadata": {},
   "outputs": [],
   "source": [
    "Measurement = Base.classes.measurement\n",
    "Station = Base.classes.station"
   ]
  },
  {
   "cell_type": "code",
   "execution_count": 9,
   "metadata": {},
   "outputs": [],
   "source": [
    "session = Session(engine)"
   ]
  },
  {
   "cell_type": "markdown",
   "metadata": {},
   "source": [
    "# Exploratory Climate Analysis"
   ]
  },
  {
   "cell_type": "code",
   "execution_count": 10,
   "metadata": {},
   "outputs": [
    {
     "name": "stdout",
     "output_type": "stream",
     "text": [
      "id INTEGER\n",
      "station TEXT\n",
      "date TEXT\n",
      "prcp FLOAT\n",
      "tobs FLOAT\n"
     ]
    }
   ],
   "source": [
    "#Start Date for Trip - 2018-03-01\n",
    "#End Date for Trip - 2018-03-07\n",
    "inspector = inspect(engine)\n",
    "inspector.get_table_names()\n",
    "columns = inspector.get_columns('measurement')\n",
    "for column in columns:\n",
    "    print(column[\"name\"], column[\"type\"])"
   ]
  },
  {
   "cell_type": "code",
   "execution_count": 11,
   "metadata": {},
   "outputs": [
    {
     "name": "stdout",
     "output_type": "stream",
     "text": [
      "id INTEGER\n",
      "station TEXT\n",
      "name TEXT\n",
      "latitude FLOAT\n",
      "longitude FLOAT\n",
      "elevation FLOAT\n"
     ]
    }
   ],
   "source": [
    "columns = inspector.get_columns('station')\n",
    "for column in columns:\n",
    "    print(column[\"name\"], column[\"type\"])"
   ]
  },
  {
   "cell_type": "code",
   "execution_count": 12,
   "metadata": {},
   "outputs": [],
   "source": [
    "#Query for grabbing all dates, and then grabbing latest date in the Measurement table. \n",
    "all_dates = session.query(Measurement.date).\\\n",
    "    order_by(Measurement.date.desc()).all()\n",
    "all_dates_list = list(np.ravel(all_dates))\n",
    "max_date = all_dates_list[0]\n",
    "#Some code to make the dt.timedelta a bit easier. Have to be careful - format needs to be 'YYYY-MM-DD' for this to work.\n",
    "max_date_year = int(max_date[0:4])\n",
    "max_date_month = int(max_date[5:7])\n",
    "max_date_day = int(max_date[8:10])\n",
    "\n",
    "year_ago_from_max = dt.date(max_date_year, max_date_month, max_date_day) - dt.timedelta(days=366)\n",
    "# Query to grab the prcp and the date for all dates up to a year ago from the latest date in the table.  \n",
    "year_ago_from_max_data = session.query(Measurement.prcp, Measurement.date).\\\n",
    "    filter(Measurement.date > year_ago_from_max).all()\\\n",
    "\n",
    "# Code for flask app...comment out for Jupyter Notebook.  \n",
    "# FYI this FLASK code managed to get my data into a dictionary which made it easy to JSONIFY\n",
    "#all_list = list(np.ravel(year_ago_from_max_data))\n",
    "#all_list\n",
    "#res_dct = {all_list[i+1]: all_list[i] for i in range(0, len(all_list), 2)}          \n",
    "#res_dct"
   ]
  },
  {
   "cell_type": "code",
   "execution_count": 13,
   "metadata": {},
   "outputs": [],
   "source": [
    "#Creating a pandas dataframe to then make a bar chart from. \n",
    "year_ago_from_max_data = pd.DataFrame(year_ago_from_max_data)\n",
    "year_ago_from_max_data = year_ago_from_max_data.dropna()\n",
    "year_ago_from_max_data = year_ago_from_max_data.sort_values(\"date\")\n"
   ]
  },
  {
   "cell_type": "code",
   "execution_count": 14,
   "metadata": {},
   "outputs": [
    {
     "data": {
      "image/png": "[encoded data removed]",
      "text/plain": [
       "<Figure size 1152x720 with 1 Axes>"
      ]
     },
     "metadata": {
      "needs_background": "light"
     },
     "output_type": "display_data"
    }
   ],
   "source": [
    "#df.plot a bar chart and use plt to add labels, font-size, etc. \n",
    "year_ago_from_max_data.plot(kind=\"bar\", width=12, figsize=(16,10))\n",
    "plt.tick_params(axis='x', which='both', bottom=True, top=True, labelbottom=False)\n",
    "plt.yticks(fontsize=30)\n",
    "plt.legend(loc=\"upper center\", fontsize=30)\n",
    "plt.xlabel(\"date\", fontsize=30)\n",
    "plt.ylabel(\"precip\", fontsize=30)\n",
    "plt.title(\"prcp by day (left to right daily oldest to newest)\")\n",
    "plt.show()\n",
    "\n"
   ]
  },
  {
   "cell_type": "markdown",
   "metadata": {},
   "source": [
    "![precipitation](Images/precipitation.png)"
   ]
  },
  {
   "cell_type": "code",
   "execution_count": 15,
   "metadata": {},
   "outputs": [
    {
     "data": {
      "text/html": [
       "<div>\n",
       "<style scoped>\n",
       "    .dataframe tbody tr th:only-of-type {\n",
       "        vertical-align: middle;\n",
       "    }\n",
       "\n",
       "    .dataframe tbody tr th {\n",
       "        vertical-align: top;\n",
       "    }\n",
       "\n",
       "    .dataframe thead th {\n",
       "        text-align: right;\n",
       "    }\n",
       "</style>\n",
       "<table border=\"1\" class=\"dataframe\">\n",
       "  <thead>\n",
       "    <tr style=\"text-align: right;\">\n",
       "      <th></th>\n",
       "      <th>prcp</th>\n",
       "    </tr>\n",
       "  </thead>\n",
       "  <tbody>\n",
       "    <tr>\n",
       "      <td>count</td>\n",
       "      <td>2021.000000</td>\n",
       "    </tr>\n",
       "    <tr>\n",
       "      <td>mean</td>\n",
       "      <td>0.177279</td>\n",
       "    </tr>\n",
       "    <tr>\n",
       "      <td>std</td>\n",
       "      <td>0.461190</td>\n",
       "    </tr>\n",
       "    <tr>\n",
       "      <td>min</td>\n",
       "      <td>0.000000</td>\n",
       "    </tr>\n",
       "    <tr>\n",
       "      <td>25%</td>\n",
       "      <td>0.000000</td>\n",
       "    </tr>\n",
       "    <tr>\n",
       "      <td>50%</td>\n",
       "      <td>0.020000</td>\n",
       "    </tr>\n",
       "    <tr>\n",
       "      <td>75%</td>\n",
       "      <td>0.130000</td>\n",
       "    </tr>\n",
       "    <tr>\n",
       "      <td>max</td>\n",
       "      <td>6.700000</td>\n",
       "    </tr>\n",
       "  </tbody>\n",
       "</table>\n",
       "</div>"
      ],
      "text/plain": [
       "              prcp\n",
       "count  2021.000000\n",
       "mean      0.177279\n",
       "std       0.461190\n",
       "min       0.000000\n",
       "25%       0.000000\n",
       "50%       0.020000\n",
       "75%       0.130000\n",
       "max       6.700000"
      ]
     },
     "execution_count": 15,
     "metadata": {},
     "output_type": "execute_result"
    }
   ],
   "source": [
    "#A quick .describe() to get the summary stats. \n",
    "year_ago_from_max_data.describe()"
   ]
  },
  {
   "cell_type": "markdown",
   "metadata": {},
   "source": [
    "![describe](Images/describe.png)"
   ]
  },
  {
   "cell_type": "code",
   "execution_count": 16,
   "metadata": {},
   "outputs": [
    {
     "name": "stdout",
     "output_type": "stream",
     "text": [
      "There are 9 total stations... They are listed below\n",
      "('WAIKIKI 717.2, HI US',)\n",
      "('KANEOHE 838.1, HI US',)\n",
      "('KUALOA RANCH HEADQUARTERS 886.9, HI US',)\n",
      "('PEARL CITY, HI US',)\n",
      "('UPPER WAHIAWA 874.3, HI US',)\n",
      "('WAIMANALO EXPERIMENTAL FARM, HI US',)\n",
      "('WAIHEE 837.5, HI US',)\n",
      "('HONOLULU OBSERVATORY 702.2, HI US',)\n",
      "('MANOA LYON ARBO 785.2, HI US',)\n"
     ]
    }
   ],
   "source": [
    "# Counting how many stations are in the dataset, then listing them below. \n",
    "number_stations = session.query(Station.name).count()\n",
    "print(f'There are {number_stations} total stations... They are listed below')\n",
    "\n",
    "stations = session.query(Station.name).all()\n",
    "for station in stations:\n",
    "    print(station)"
   ]
  },
  {
   "cell_type": "code",
   "execution_count": 17,
   "metadata": {},
   "outputs": [
    {
     "data": {
      "text/html": [
       "<div>\n",
       "<style scoped>\n",
       "    .dataframe tbody tr th:only-of-type {\n",
       "        vertical-align: middle;\n",
       "    }\n",
       "\n",
       "    .dataframe tbody tr th {\n",
       "        vertical-align: top;\n",
       "    }\n",
       "\n",
       "    .dataframe thead th {\n",
       "        text-align: right;\n",
       "    }\n",
       "</style>\n",
       "<table border=\"1\" class=\"dataframe\">\n",
       "  <thead>\n",
       "    <tr style=\"text-align: right;\">\n",
       "      <th></th>\n",
       "      <th>count of measurments</th>\n",
       "    </tr>\n",
       "    <tr>\n",
       "      <th>station</th>\n",
       "      <th></th>\n",
       "    </tr>\n",
       "  </thead>\n",
       "  <tbody>\n",
       "    <tr>\n",
       "      <td>USC00519281</td>\n",
       "      <td>2772</td>\n",
       "    </tr>\n",
       "    <tr>\n",
       "      <td>USC00519397</td>\n",
       "      <td>2724</td>\n",
       "    </tr>\n",
       "    <tr>\n",
       "      <td>USC00513117</td>\n",
       "      <td>2709</td>\n",
       "    </tr>\n",
       "    <tr>\n",
       "      <td>USC00519523</td>\n",
       "      <td>2669</td>\n",
       "    </tr>\n",
       "    <tr>\n",
       "      <td>USC00516128</td>\n",
       "      <td>2612</td>\n",
       "    </tr>\n",
       "    <tr>\n",
       "      <td>USC00514830</td>\n",
       "      <td>2202</td>\n",
       "    </tr>\n",
       "    <tr>\n",
       "      <td>USC00511918</td>\n",
       "      <td>1979</td>\n",
       "    </tr>\n",
       "    <tr>\n",
       "      <td>USC00517948</td>\n",
       "      <td>1372</td>\n",
       "    </tr>\n",
       "    <tr>\n",
       "      <td>USC00518838</td>\n",
       "      <td>511</td>\n",
       "    </tr>\n",
       "  </tbody>\n",
       "</table>\n",
       "</div>"
      ],
      "text/plain": [
       "             count of measurments\n",
       "station                          \n",
       "USC00519281                  2772\n",
       "USC00519397                  2724\n",
       "USC00513117                  2709\n",
       "USC00519523                  2669\n",
       "USC00516128                  2612\n",
       "USC00514830                  2202\n",
       "USC00511918                  1979\n",
       "USC00517948                  1372\n",
       "USC00518838                   511"
      ]
     },
     "execution_count": 17,
     "metadata": {},
     "output_type": "execute_result"
    }
   ],
   "source": [
    "#Querying for all the stations and their measurements, converting to pandas df, grouping by station and using .count and .sort_values to get a nice looking summary\n",
    "active_stations = session.query(Measurement.station, Measurement.tobs).all()\n",
    "active_stations = pd.DataFrame(active_stations)\n",
    "active_stations = active_stations.groupby(\"station\").count().sort_values(\"tobs\", ascending=False)\n",
    "active_stations = active_stations.rename(columns={\"tobs\":\"count of measurments\"})\n",
    "active_stations"
   ]
  },
  {
   "cell_type": "code",
   "execution_count": 18,
   "metadata": {},
   "outputs": [
    {
     "name": "stdout",
     "output_type": "stream",
     "text": [
      "The lowest temp at the most active station (USC00519281) is 54.0\n",
      "The highest temp at the most active station (USC00519281) is 85.0\n",
      "The average temp at the most active station (USC00519281) is 71.66378066378067\n"
     ]
    }
   ],
   "source": [
    "#Query for data at the most active station, then get MIN, MAX, and AVG temps out of all the measurements. \n",
    "low_temp_at_active_station = session.query(Measurement.station, Measurement.tobs).\\\n",
    "    filter_by(station=\"USC00519281\").all()\n",
    "low_temp_at_active_station = pd.DataFrame(low_temp_at_active_station)\n",
    "mintobs = low_temp_at_active_station[\"tobs\"].min()\n",
    "maxtobs = low_temp_at_active_station[\"tobs\"].max()\n",
    "avgtobs = low_temp_at_active_station[\"tobs\"].mean()\n",
    "\n",
    "print(f'The lowest temp at the most active station (USC00519281) is {mintobs}')\n",
    "print(f'The highest temp at the most active station (USC00519281) is {maxtobs}')\n",
    "print(f'The average temp at the most active station (USC00519281) is {avgtobs}')"
   ]
  },
  {
   "cell_type": "code",
   "execution_count": 19,
   "metadata": {},
   "outputs": [
    {
     "data": {
      "image/png": "[encoded data removed]",
      "text/plain": [
       "<Figure size 432x288 with 1 Axes>"
      ]
     },
     "metadata": {
      "needs_background": "light"
     },
     "output_type": "display_data"
    }
   ],
   "source": [
    "#Query for all the dates with measurements at the most active station to find the max date. \n",
    "all_dates = session.query(Measurement.date, Measurement.station).\\\n",
    "    filter_by(station=\"USC00519281\").\\\n",
    "    order_by(Measurement.date.desc()).all()\n",
    "all_dates_list = list(np.ravel(all_dates))\n",
    "max_date = all_dates_list[0]\n",
    "\n",
    "#Because the date is formatted \"YYYY-MM-DD\" I can do this code to make timedelta easy to work with. \n",
    "max_date_year = int(max_date[0:4])\n",
    "max_date_month = int(max_date[5:7])\n",
    "max_date_day = int(max_date[8:10])\n",
    "\n",
    "year_ago_from_max = dt.date(max_date_year, max_date_month, max_date_day) - dt.timedelta(days=365)\n",
    "\n",
    "#This grabs all my measurements on the most active station, and only the dates from a year ago from max date. \n",
    "year_ago_from_max_data = session.query(Measurement.tobs).\\\n",
    "    filter(Measurement.station==\"USC00519281\").\\\n",
    "    filter(Measurement.date > year_ago_from_max).all()\n",
    "\n",
    "#Plotting the results in the histogram with 12 bins\n",
    "year_ago_from_max_data = pd.DataFrame(year_ago_from_max_data)\n",
    "year_ago_from_max_data.hist(bins=12)\n",
    "plt.ylabel(\"frequency\")\n",
    "plt.title(\"frequency of tobs observations\")\n",
    "plt.tight_layout()\n",
    "plt.show()\n",
    "\n"
   ]
  },
  {
   "cell_type": "markdown",
   "metadata": {},
   "source": [
    "![precipitation](Images/station-histogram.png)"
   ]
  },
  {
   "cell_type": "code",
   "execution_count": 20,
   "metadata": {},
   "outputs": [
    {
     "name": "stdout",
     "output_type": "stream",
     "text": [
      "[(62.0, 69.57142857142857, 74.0)]\n"
     ]
    }
   ],
   "source": [
    "# This function called `calc_temps` will accept start date and end date in the format '%Y-%m-%d' \n",
    "# and return the minimum, average, and maximum temperatures for that range of dates\n",
    "def calc_temps(start_date, end_date):\n",
    "    \"\"\"TMIN, TAVG, and TMAX for a list of dates.\n",
    "    \n",
    "    Args:\n",
    "        start_date (string): A date string in the format %Y-%m-%d\n",
    "        end_date (string): A date string in the format %Y-%m-%d\n",
    "        \n",
    "    Returns:\n",
    "        TMIN, TAVE, and TMAX\n",
    "    \"\"\"\n",
    "    \n",
    "    return session.query(func.min(Measurement.tobs), func.avg(Measurement.tobs), func.max(Measurement.tobs)).\\\n",
    "        filter(Measurement.date >= start_date).filter(Measurement.date <= end_date).all()\n",
    "\n",
    "# function usage example\n",
    "print(calc_temps('2012-02-28', '2012-03-05'))"
   ]
  },
  {
   "cell_type": "code",
   "execution_count": 21,
   "metadata": {},
   "outputs": [
    {
     "data": {
      "text/plain": [
       "[(62.0, 71.02380952380952, 78.0)]"
      ]
     },
     "execution_count": 21,
     "metadata": {},
     "output_type": "execute_result"
    }
   ],
   "source": [
    "# Use your previous function `calc_temps` to calculate the tmin, tavg, and tmax \n",
    "# for your trip using the previous year's data for those same dates.\n",
    "trip_temps = calc_temps('2017-03-01', '2017-03-07')\n",
    "\n",
    "idk = list(np.ravel(trip_temps))\n",
    "TMIN = idk[0]\n",
    "TAVE = idk[1]\n",
    "TMAX = idk[2]\n",
    "\n",
    "trip_temps"
   ]
  },
  {
   "cell_type": "code",
   "execution_count": 22,
   "metadata": {},
   "outputs": [
    {
     "data": {
      "text/plain": [
       "Text(14.435000000000002, 0.5, 'Degrees')"
      ]
     },
     "execution_count": 22,
     "metadata": {},
     "output_type": "execute_result"
    },
    {
     "data": {
      "image/png": "[encoded data removed]",
      "text/plain": [
       "<Figure size 432x288 with 1 Axes>"
      ]
     },
     "metadata": {
      "needs_background": "light"
     },
     "output_type": "display_data"
    }
   ],
   "source": [
    "yerr = (TMAX-TMIN)/2\n",
    "\n",
    "df = pd.DataFrame([{'Avg': TAVE}])\n",
    "\n",
    "df.plot(kind=\"bar\", yerr=yerr, color=\"salmon\", alpha=.45)\n",
    "plt.title(\"Average Temperature last year during my trip window\")\n",
    "plt.tight_layout()\n",
    "plt.ylabel(\"Degrees\")"
   ]
  },
  {
   "cell_type": "code",
   "execution_count": 23,
   "metadata": {},
   "outputs": [
    {
     "data": {
      "text/html": [
       "<div>\n",
       "<style scoped>\n",
       "    .dataframe tbody tr th:only-of-type {\n",
       "        vertical-align: middle;\n",
       "    }\n",
       "\n",
       "    .dataframe tbody tr th {\n",
       "        vertical-align: top;\n",
       "    }\n",
       "\n",
       "    .dataframe thead th {\n",
       "        text-align: right;\n",
       "    }\n",
       "</style>\n",
       "<table border=\"1\" class=\"dataframe\">\n",
       "  <thead>\n",
       "    <tr style=\"text-align: right;\">\n",
       "      <th></th>\n",
       "      <th>station</th>\n",
       "      <th>total prcp between start and end date</th>\n",
       "      <th>name</th>\n",
       "      <th>latitude</th>\n",
       "      <th>longitude</th>\n",
       "      <th>elevation</th>\n",
       "    </tr>\n",
       "  </thead>\n",
       "  <tbody>\n",
       "    <tr>\n",
       "      <td>0</td>\n",
       "      <td>USC00513117</td>\n",
       "      <td>4.80</td>\n",
       "      <td>KANEOHE 838.1, HI US</td>\n",
       "      <td>21.42340</td>\n",
       "      <td>-157.80150</td>\n",
       "      <td>14.6</td>\n",
       "    </tr>\n",
       "    <tr>\n",
       "      <td>1</td>\n",
       "      <td>USC00519281</td>\n",
       "      <td>4.71</td>\n",
       "      <td>WAIHEE 837.5, HI US</td>\n",
       "      <td>21.45167</td>\n",
       "      <td>-157.84889</td>\n",
       "      <td>32.9</td>\n",
       "    </tr>\n",
       "    <tr>\n",
       "      <td>2</td>\n",
       "      <td>USC00516128</td>\n",
       "      <td>3.49</td>\n",
       "      <td>MANOA LYON ARBO 785.2, HI US</td>\n",
       "      <td>21.33310</td>\n",
       "      <td>-157.80250</td>\n",
       "      <td>152.4</td>\n",
       "    </tr>\n",
       "    <tr>\n",
       "      <td>3</td>\n",
       "      <td>USC00517948</td>\n",
       "      <td>2.98</td>\n",
       "      <td>PEARL CITY, HI US</td>\n",
       "      <td>21.39340</td>\n",
       "      <td>-157.97510</td>\n",
       "      <td>11.9</td>\n",
       "    </tr>\n",
       "    <tr>\n",
       "      <td>4</td>\n",
       "      <td>USC00519397</td>\n",
       "      <td>2.74</td>\n",
       "      <td>WAIKIKI 717.2, HI US</td>\n",
       "      <td>21.27160</td>\n",
       "      <td>-157.81680</td>\n",
       "      <td>3.0</td>\n",
       "    </tr>\n",
       "    <tr>\n",
       "      <td>5</td>\n",
       "      <td>USC00519523</td>\n",
       "      <td>2.32</td>\n",
       "      <td>WAIMANALO EXPERIMENTAL FARM, HI US</td>\n",
       "      <td>21.33556</td>\n",
       "      <td>-157.71139</td>\n",
       "      <td>19.5</td>\n",
       "    </tr>\n",
       "    <tr>\n",
       "      <td>6</td>\n",
       "      <td>USC00514830</td>\n",
       "      <td>1.12</td>\n",
       "      <td>KUALOA RANCH HEADQUARTERS 886.9, HI US</td>\n",
       "      <td>21.52130</td>\n",
       "      <td>-157.83740</td>\n",
       "      <td>7.0</td>\n",
       "    </tr>\n",
       "    <tr>\n",
       "      <td>7</td>\n",
       "      <td>USC00518838</td>\n",
       "      <td>NaN</td>\n",
       "      <td>UPPER WAHIAWA 874.3, HI US</td>\n",
       "      <td>21.49920</td>\n",
       "      <td>-158.01110</td>\n",
       "      <td>306.6</td>\n",
       "    </tr>\n",
       "    <tr>\n",
       "      <td>8</td>\n",
       "      <td>USC00511918</td>\n",
       "      <td>NaN</td>\n",
       "      <td>HONOLULU OBSERVATORY 702.2, HI US</td>\n",
       "      <td>21.31520</td>\n",
       "      <td>-157.99920</td>\n",
       "      <td>0.9</td>\n",
       "    </tr>\n",
       "  </tbody>\n",
       "</table>\n",
       "</div>"
      ],
      "text/plain": [
       "       station  total prcp between start and end date  \\\n",
       "0  USC00513117                                   4.80   \n",
       "1  USC00519281                                   4.71   \n",
       "2  USC00516128                                   3.49   \n",
       "3  USC00517948                                   2.98   \n",
       "4  USC00519397                                   2.74   \n",
       "5  USC00519523                                   2.32   \n",
       "6  USC00514830                                   1.12   \n",
       "7  USC00518838                                    NaN   \n",
       "8  USC00511918                                    NaN   \n",
       "\n",
       "                                     name  latitude  longitude  elevation  \n",
       "0                    KANEOHE 838.1, HI US  21.42340 -157.80150       14.6  \n",
       "1                     WAIHEE 837.5, HI US  21.45167 -157.84889       32.9  \n",
       "2            MANOA LYON ARBO 785.2, HI US  21.33310 -157.80250      152.4  \n",
       "3                       PEARL CITY, HI US  21.39340 -157.97510       11.9  \n",
       "4                    WAIKIKI 717.2, HI US  21.27160 -157.81680        3.0  \n",
       "5      WAIMANALO EXPERIMENTAL FARM, HI US  21.33556 -157.71139       19.5  \n",
       "6  KUALOA RANCH HEADQUARTERS 886.9, HI US  21.52130 -157.83740        7.0  \n",
       "7              UPPER WAHIAWA 874.3, HI US  21.49920 -158.01110      306.6  \n",
       "8       HONOLULU OBSERVATORY 702.2, HI US  21.31520 -157.99920        0.9  "
      ]
     },
     "execution_count": 23,
     "metadata": {},
     "output_type": "execute_result"
    }
   ],
   "source": [
    "#Query to get precip data between the same trip window last year. \n",
    "start_date = '2017-03-01'\n",
    "end_date = '2017-03-07'\n",
    "\n",
    "prcp_by_station = session.query(Measurement.station, Measurement.prcp).\\\n",
    "    filter(Measurement.date >= start_date).filter(Measurement.date <= end_date).all()\n",
    "\n",
    "#Plop it into a df and group by station and use .sum() to get total precip values by station. \n",
    "prcp_by_station = pd.DataFrame(prcp_by_station)\n",
    "prcp_by_station = prcp_by_station.groupby(\"station\").sum().sort_values(\"prcp\", ascending=False)\n",
    "prcp_by_station = prcp_by_station.rename(columns={\"prcp\":\"total prcp between start and end date\"})\n",
    "prcp_by_station\n",
    "\n",
    "#Query to get station name, number, lat/long, elevation, and plop it into df - should check it out to test it, \n",
    "#should be able to merge right into the other df to make a nice viewable table\n",
    "station_info = session.query(Station.station, Station.name, Station.latitude, Station.longitude, Station.elevation).all()\n",
    "station_info = pd.DataFrame(station_info)\n",
    "#station_info    #Just check out the df make sure it is mergable with previous. \n",
    "\n",
    "merge = pd.merge(prcp_by_station, station_info, on=\"station\", how=\"outer\")\n",
    "merge\n"
   ]
  },
  {
   "cell_type": "markdown",
   "metadata": {},
   "source": [
    "## Optional Challenge Assignment"
   ]
  },
  {
   "cell_type": "code",
   "execution_count": 24,
   "metadata": {},
   "outputs": [
    {
     "data": {
      "text/plain": [
       "[(62.0, 69.15384615384616, 77.0)]"
      ]
     },
     "execution_count": 24,
     "metadata": {},
     "output_type": "execute_result"
    }
   ],
   "source": [
    "# Create a query that will calculate the daily normals \n",
    "# (i.e. the averages for tmin, tmax, and tavg for all historic data matching a specific month and day)\n",
    "\n",
    "def daily_normals(date):\n",
    "    \"\"\"Daily Normals.\n",
    "    \n",
    "    Args:\n",
    "        date (str): A date string in the format '%m-%d'\n",
    "        \n",
    "    Returns:\n",
    "        A list of tuples containing the daily normals, tmin, tavg, and tmax\n",
    "    \n",
    "    \"\"\"\n",
    "    \n",
    "    sel = [func.min(Measurement.tobs), func.avg(Measurement.tobs), func.max(Measurement.tobs)]\n",
    "    return session.query(*sel).filter(func.strftime(\"%m-%d\", Measurement.date) == date).all()\n",
    "    \n",
    "daily_normals(\"01-01\")"
   ]
  },
  {
   "cell_type": "code",
   "execution_count": 25,
   "metadata": {},
   "outputs": [
    {
     "name": "stdout",
     "output_type": "stream",
     "text": [
      "Of all the data, the min temp in June is 64.0 degrees\n",
      "The avg temp in June is 74.94411764705882 degrees\n",
      "The maximum temp in June is 85.0 degrees\n",
      "----------------------------------------------------------\n",
      "Of all the data, the min temp in December is 56.0 degrees\n",
      "The avg temp in December is 71.04152933421226 degrees\n",
      "The maximum temp in December is 83.0 degrees\n"
     ]
    }
   ],
   "source": [
    "#Identify the average temperature in June at all stations across all available years in the dataset. Do the same for December temperature.\n",
    "\n",
    "def monthly_normals(date):\n",
    "    \n",
    "    sel = [func.min(Measurement.tobs), func.avg(Measurement.tobs), func.max(Measurement.tobs)]\n",
    "    return session.query(*sel).filter(func.strftime(\"%m\", Measurement.date) == date).all()\n",
    "\n",
    "June_monthly = monthly_normals('06')\n",
    "Dec_monthly = monthly_normals('12')\n",
    "June_monthly = list(np.ravel(June_monthly))\n",
    "Dec_monthly = list(np.ravel(Dec_monthly))\n",
    "\n",
    "print(f'Of all the data, the min temp in June is {June_monthly[0]} degrees')\n",
    "print(f'The avg temp in June is {June_monthly[1]} degrees')\n",
    "print(f'The maximum temp in June is {June_monthly[2]} degrees')\n",
    "print(f'----------------------------------------------------------')\n",
    "print(f'Of all the data, the min temp in December is {Dec_monthly[0]} degrees')\n",
    "print(f'The avg temp in December is {Dec_monthly[1]} degrees')\n",
    "print(f'The maximum temp in December is {Dec_monthly[2]} degrees')"
   ]
  },
  {
   "cell_type": "code",
   "execution_count": 26,
   "metadata": {},
   "outputs": [],
   "source": [
    "# calculate the daily normals for your trip\n",
    "# push each tuple of calculations into a list called `normals`\n",
    "\n",
    "# Set the start and end date of the trip\n",
    "\n",
    "# Use the start and end date to create a range of dates\n",
    "\n",
    "\n",
    "# Stip off the year and save a list of %m-%d strings\n",
    "\n",
    "# Loop through the list of %m-%d strings and calculate the normals for each date\n"
   ]
  },
  {
   "cell_type": "code",
   "execution_count": 27,
   "metadata": {},
   "outputs": [],
   "source": [
    "# Load the previous query results into a Pandas DataFrame and add the `trip_dates` range as the `date` index\n"
   ]
  },
  {
   "cell_type": "code",
   "execution_count": 28,
   "metadata": {},
   "outputs": [],
   "source": [
    "# Plot the daily normals as an area plot with `stacked=False`\n"
   ]
  },
  {
   "cell_type": "code",
   "execution_count": null,
   "metadata": {},
   "outputs": [],
   "source": []
  }
 ],
 "metadata": {
  "kernel_info": {
   "name": "python3"
  },
  "kernelspec": {
   "display_name": "Python 3",
   "language": "python",
   "name": "python3"
  },
  "language_info": {
   "codemirror_mode": {
    "name": "ipython",
    "version": 3
   },
   "file_extension": ".py",
   "mimetype": "text/x-python",
   "name": "python",
   "nbconvert_exporter": "python",
   "pygments_lexer": "ipython3",
   "version": "3.7.4"
  },
  "nteract": {
   "version": "0.12.3"
  },
  "varInspector": {
   "cols": {
    "lenName": 16,
    "lenType": 16,
    "lenVar": 40
   },
   "kernels_config": {
    "python": {
     "delete_cmd_postfix": "",
     "delete_cmd_prefix": "del ",
     "library": "var_list.py",
     "varRefreshCmd": "print(var_dic_list())"
    },
    "r": {
     "delete_cmd_postfix": ") ",
     "delete_cmd_prefix": "rm(",
     "library": "var_list.r",
     "varRefreshCmd": "cat(var_dic_list()) "
    }
   },
   "types_to_exclude": [
    "module",
    "function",
    "builtin_function_or_method",
    "instance",
    "_Feature"
   ],
   "window_display": false
  }
 },
 "nbformat": 4,
 "nbformat_minor": 2
}
